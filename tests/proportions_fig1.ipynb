{
 "cells": [
  {
   "cell_type": "code",
   "execution_count": 2,
   "metadata": {},
   "outputs": [],
   "source": [
    "# packages for both analysis and plotting\n",
    "import numpy as np\n",
    "import pandas as pd\n",
    "from tqdm import tqdm\n",
    "import re\n",
    "\n",
    "# packages for only plotting\n",
    "import colorcet\n",
    "import seaborn as sns\n",
    "import matplotlib as mpl\n",
    "from matplotlib import pyplot\n",
    "import matplotlib.patches as mpatches\n",
    "from matplotlib.offsetbox import DrawingArea, AnnotationBbox\n",
    "import matplotlib.font_manager as font_manager\n",
    "from matplotlib.collections import PathCollection\n",
    "from statsmodels.stats.multitest import multipletests\n",
    "pyplot.rcParams['svg.fonttype'] = 'none'\n",
    "mpl.rcParams.update({'font.size': 8})\n",
    "mpl.rcParams['figure.dpi'] = 300"
   ]
  },
  {
   "cell_type": "code",
   "execution_count": 7,
   "metadata": {},
   "outputs": [
    {
     "data": {
      "text/plain": [
       "array([[8, 4],\n",
       "       [7, 5],\n",
       "       [6, 6],\n",
       "       [5, 7],\n",
       "       [4, 8]])"
      ]
     },
     "execution_count": 7,
     "metadata": {},
     "output_type": "execute_result"
    }
   ],
   "source": [
    "m1 = np.array([2, 1]) #orange, blue\n",
    "m2 = np.array([1, 2]) #orange, blue\n",
    "motifs = np.array([m1, m2])\n",
    "\n",
    "motif_freq = np.array([[4, 0],\n",
    "                       [3, 1],\n",
    "                       [2, 2],\n",
    "                       [1, 3],\n",
    "                       [0, 4]])\n",
    "\n",
    "proportions = np.dot(motif_freq, motifs)\n",
    "proportions"
   ]
  },
  {
   "cell_type": "code",
   "execution_count": 8,
   "metadata": {},
   "outputs": [
    {
     "data": {
      "text/html": [
       "<div>\n",
       "<style scoped>\n",
       "    .dataframe tbody tr th:only-of-type {\n",
       "        vertical-align: middle;\n",
       "    }\n",
       "\n",
       "    .dataframe tbody tr th {\n",
       "        vertical-align: top;\n",
       "    }\n",
       "\n",
       "    .dataframe thead th {\n",
       "        text-align: right;\n",
       "    }\n",
       "</style>\n",
       "<table border=\"1\" class=\"dataframe\">\n",
       "  <thead>\n",
       "    <tr style=\"text-align: right;\">\n",
       "      <th></th>\n",
       "      <th>o</th>\n",
       "      <th>b</th>\n",
       "    </tr>\n",
       "  </thead>\n",
       "  <tbody>\n",
       "    <tr>\n",
       "      <th>0</th>\n",
       "      <td>8</td>\n",
       "      <td>4</td>\n",
       "    </tr>\n",
       "    <tr>\n",
       "      <th>1</th>\n",
       "      <td>7</td>\n",
       "      <td>5</td>\n",
       "    </tr>\n",
       "    <tr>\n",
       "      <th>2</th>\n",
       "      <td>6</td>\n",
       "      <td>6</td>\n",
       "    </tr>\n",
       "    <tr>\n",
       "      <th>3</th>\n",
       "      <td>5</td>\n",
       "      <td>7</td>\n",
       "    </tr>\n",
       "    <tr>\n",
       "      <th>4</th>\n",
       "      <td>4</td>\n",
       "      <td>8</td>\n",
       "    </tr>\n",
       "  </tbody>\n",
       "</table>\n",
       "</div>"
      ],
      "text/plain": [
       "   o  b\n",
       "0  8  4\n",
       "1  7  5\n",
       "2  6  6\n",
       "3  5  7\n",
       "4  4  8"
      ]
     },
     "execution_count": 8,
     "metadata": {},
     "output_type": "execute_result"
    }
   ],
   "source": [
    "df_proportions = pd.DataFrame(proportions, columns=['o', 'b'])\n",
    "df_proportions"
   ]
  },
  {
   "cell_type": "code",
   "execution_count": 20,
   "metadata": {},
   "outputs": [
    {
     "data": {
      "image/png": "[encoded data removed]",
      "text/plain": [
       "<Figure size 150x150 with 1 Axes>"
      ]
     },
     "metadata": {},
     "output_type": "display_data"
    },
    {
     "data": {
      "image/png": "[encoded data removed]",
      "text/plain": [
       "<Figure size 150x150 with 1 Axes>"
      ]
     },
     "metadata": {},
     "output_type": "display_data"
    },
    {
     "data": {
      "image/png": "[encoded data removed]",
      "text/plain": [
       "<Figure size 150x150 with 1 Axes>"
      ]
     },
     "metadata": {},
     "output_type": "display_data"
    },
    {
     "data": {
      "image/png": "[encoded data removed]",
      "text/plain": [
       "<Figure size 150x150 with 1 Axes>"
      ]
     },
     "metadata": {},
     "output_type": "display_data"
    },
    {
     "data": {
      "image/png": "[encoded data removed]",
      "text/plain": [
       "<Figure size 150x150 with 1 Axes>"
      ]
     },
     "metadata": {},
     "output_type": "display_data"
    }
   ],
   "source": [
    "for reg in range(5):\n",
    "    \n",
    "    fig, ax = pyplot.subplots(figsize=(0.5, 0.5))\n",
    "\n",
    "    sns.barplot(data=df_proportions.iloc[reg].to_frame().reset_index(), x='index', y=reg)\n",
    "    if reg == 0:\n",
    "        pyplot.ylabel(\"Cell type\\nfrequency\", **{'fontname':'Arial', 'size':8})\n",
    "    else:\n",
    "        pyplot.ylabel(\"\")\n",
    "    pyplot.xlabel(\"\")\n",
    "    pyplot.gca().axes.xaxis.set_ticklabels([])\n",
    "    pyplot.yticks([], [])\n",
    "    ax.set_ylim(0, 12)\n",
    "\n",
    "    for i, (ind, val) in enumerate(df_proportions.iloc[reg].to_frame().reset_index().values):\n",
    "        pyplot.annotate(val, xy=(i, val), ha='center', va='bottom', **{'fontname':'Arial', 'size':8})\n",
    "\n",
    "    pyplot.savefig(f\"cell_type_freq_reg{reg}.svg\", bbox_inches=\"tight\")"
   ]
  },
  {
   "cell_type": "code",
   "execution_count": 10,
   "metadata": {},
   "outputs": [
    {
     "data": {
      "text/html": [
       "<div>\n",
       "<style scoped>\n",
       "    .dataframe tbody tr th:only-of-type {\n",
       "        vertical-align: middle;\n",
       "    }\n",
       "\n",
       "    .dataframe tbody tr th {\n",
       "        vertical-align: top;\n",
       "    }\n",
       "\n",
       "    .dataframe thead th {\n",
       "        text-align: right;\n",
       "    }\n",
       "</style>\n",
       "<table border=\"1\" class=\"dataframe\">\n",
       "  <thead>\n",
       "    <tr style=\"text-align: right;\">\n",
       "      <th></th>\n",
       "      <th>A</th>\n",
       "      <th>B</th>\n",
       "    </tr>\n",
       "  </thead>\n",
       "  <tbody>\n",
       "    <tr>\n",
       "      <th>0</th>\n",
       "      <td>4</td>\n",
       "      <td>0</td>\n",
       "    </tr>\n",
       "    <tr>\n",
       "      <th>1</th>\n",
       "      <td>3</td>\n",
       "      <td>1</td>\n",
       "    </tr>\n",
       "    <tr>\n",
       "      <th>2</th>\n",
       "      <td>2</td>\n",
       "      <td>2</td>\n",
       "    </tr>\n",
       "    <tr>\n",
       "      <th>3</th>\n",
       "      <td>1</td>\n",
       "      <td>3</td>\n",
       "    </tr>\n",
       "    <tr>\n",
       "      <th>4</th>\n",
       "      <td>0</td>\n",
       "      <td>4</td>\n",
       "    </tr>\n",
       "  </tbody>\n",
       "</table>\n",
       "</div>"
      ],
      "text/plain": [
       "   A  B\n",
       "0  4  0\n",
       "1  3  1\n",
       "2  2  2\n",
       "3  1  3\n",
       "4  0  4"
      ]
     },
     "execution_count": 10,
     "metadata": {},
     "output_type": "execute_result"
    }
   ],
   "source": [
    "df_motif_freq = pd.DataFrame(motif_freq, columns=['A', 'B'])\n",
    "df_motif_freq"
   ]
  },
  {
   "cell_type": "code",
   "execution_count": 22,
   "metadata": {},
   "outputs": [
    {
     "data": {
      "image/png": "[encoded data removed]",
      "text/plain": [
       "<Figure size 150x150 with 1 Axes>"
      ]
     },
     "metadata": {},
     "output_type": "display_data"
    },
    {
     "data": {
      "image/png": "[encoded data removed]",
      "text/plain": [
       "<Figure size 150x150 with 1 Axes>"
      ]
     },
     "metadata": {},
     "output_type": "display_data"
    },
    {
     "data": {
      "image/png": "[encoded data removed]",
      "text/plain": [
       "<Figure size 150x150 with 1 Axes>"
      ]
     },
     "metadata": {},
     "output_type": "display_data"
    },
    {
     "data": {
      "image/png": "[encoded data removed]",
      "text/plain": [
       "<Figure size 150x150 with 1 Axes>"
      ]
     },
     "metadata": {},
     "output_type": "display_data"
    },
    {
     "data": {
      "image/png": "[encoded data removed]",
      "text/plain": [
       "<Figure size 150x150 with 1 Axes>"
      ]
     },
     "metadata": {},
     "output_type": "display_data"
    }
   ],
   "source": [
    "for reg in range(5):\n",
    "    \n",
    "    fig, ax = pyplot.subplots(figsize=(0.5, 0.5))\n",
    "\n",
    "    sns.barplot(data=df_motif_freq.iloc[reg].to_frame().reset_index(), x='index', y=reg, color='gray')\n",
    "    if reg == 0:\n",
    "        pyplot.ylabel(\"Motif\\nfrequency\", **{'fontname':'Arial', 'size':8})\n",
    "    else:\n",
    "        pyplot.ylabel(\"\")\n",
    "    pyplot.xlabel(\"\")\n",
    "    pyplot.xticks(**{'fontname':'Arial', 'size':8})\n",
    "    pyplot.yticks([], [])\n",
    "    ax.set_ylim(0, 6)\n",
    "\n",
    "    for i, (ind, val) in enumerate(df_motif_freq.iloc[reg].to_frame().reset_index().values):\n",
    "        pyplot.annotate(val, xy=(i, val), ha='center', va='bottom', **{'fontname':'Arial', 'size':8})\n",
    "\n",
    "    pyplot.savefig(f\"motif_freq_reg{reg}.svg\", bbox_inches=\"tight\")"
   ]
  },
  {
   "cell_type": "code",
   "execution_count": null,
   "metadata": {},
   "outputs": [],
   "source": []
  }
 ],
 "metadata": {
  "kernelspec": {
   "display_name": "lineage_motif",
   "language": "python",
   "name": "python3"
  },
  "language_info": {
   "codemirror_mode": {
    "name": "ipython",
    "version": 3
   },
   "file_extension": ".py",
   "mimetype": "text/x-python",
   "name": "python",
   "nbconvert_exporter": "python",
   "pygments_lexer": "ipython3",
   "version": "3.10.9"
  },
  "orig_nbformat": 4
 },
 "nbformat": 4,
 "nbformat_minor": 2
}
