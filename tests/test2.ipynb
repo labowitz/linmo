{
 "cells": [
  {
   "cell_type": "code",
   "execution_count": null,
   "metadata": {},
   "outputs": [],
   "source": [
    "(asym_septet_dict, \n",
    "     cell_fates, \n",
    "     dfs_c_asym_septet) = resample_trees_asym_septets(all_trees_sorted, \n",
    "                                               num_resamples=1000, \n",
    "                                               replacement_bool=True, \n",
    "                                               cell_fates='auto',\n",
    "                                               calc_expected=False\n",
    "                                               )\n",
    "\n",
    "dfs_c_p_val = calc_p_value(dfs_c_asym_septet, num_resamples=1000)\n",
    "adj_p_val_fdr_tsbh = dfs_c_p_val.iloc[asym_septet_dict[subtree_label_list[2]]]['adj_p_val_fdr_tsbh']\n",
    "adj_p_val_fdr_tsbh_list.append(adj_p_val_fdr_tsbh)"
   ]
  }
 ],
 "metadata": {
  "language_info": {
   "name": "python"
  },
  "orig_nbformat": 4
 },
 "nbformat": 4,
 "nbformat_minor": 2
}
