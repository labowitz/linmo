{
 "cells": [
  {
   "cell_type": "code",
   "execution_count": 5,
   "metadata": {},
   "outputs": [],
   "source": [
    "import re"
   ]
  },
  {
   "cell_type": "code",
   "execution_count": 19,
   "metadata": {},
   "outputs": [],
   "source": [
    "def _align_asym_septet(tree):\n",
    "    \"\"\"Aligns asymmetric septet so that all of them are in the order of (outgroup 1, outgroup 2, ingroup).\n",
    "    \n",
    "    Find all ((x,(x,(x,(x,x)))),x) septets, then replace them with the same asymmetric septet but in (x,(x,(x,(x,(x,x))))) form.\n",
    "    \n",
    "    Args:\n",
    "        tree (string): Tree in NEWICK format. Tree should have doublets sorted, and triplets and asymmetric quartets aligned already.\n",
    "    \n",
    "    Returns:\n",
    "        tree (string): New tree in NEWICK format after aligned asymmetric septet.\n",
    "    \"\"\"\n",
    "    for i in re.findall(\"\\(\\(\\w*,\\(\\w*,\\(\\w*,\\(\\w*,\\(\\w*,\\w*\\)\\)\\)\\)\\),\\w*\\)\", tree):\n",
    "        j = re.findall(\"\\w*\", i)\n",
    "        i_escape = re.escape(i)\n",
    "        tree = re.sub(i_escape, f'({j[23]},({j[2]},({j[5]},({j[8]},({j[11]},({j[14]},{j[16]}))))))', tree)\n",
    "    return tree"
   ]
  },
  {
   "cell_type": "code",
   "execution_count": 18,
   "metadata": {},
   "outputs": [
    {
     "data": {
      "text/plain": [
       "'(x,(x,(x,(x,(x,(x,x))))))'"
      ]
     },
     "execution_count": 18,
     "metadata": {},
     "output_type": "execute_result"
    }
   ],
   "source": [
    "tree = \"((x,(x,(x,(x,(x,x))))),x)\"\n",
    "\n",
    "_align_asym_septet(tree)"
   ]
  },
  {
   "cell_type": "code",
   "execution_count": 2,
   "metadata": {},
   "outputs": [
    {
     "data": {
      "text/plain": [
       "('A', '(A,(A,(A,A)))')"
      ]
     },
     "execution_count": 2,
     "metadata": {},
     "output_type": "execute_result"
    }
   ],
   "source": [
    "tree = \"(A,(A,(A,(A,A))))\"\n",
    "\n",
    "tree[1], tree[3:-1]"
   ]
  },
  {
   "cell_type": "code",
   "execution_count": null,
   "metadata": {},
   "outputs": [],
   "source": [
    "def _process_dfs_doublet(df_doublet_true, dfs_doublet_new, num_resamples, doublet_dict, cell_dict, df_all_cells_true):\n",
    "    \"\"\"Arranges observed counts for each doublet in all resamples and original trees into a combined DataFrame.\n",
    "    \n",
    "    Last column is analytically solved expected number of each doublet.\n",
    "        \n",
    "    Args:\n",
    "        df_doublet_true (DataFrame): DataFrame with number of each doublet in original trees, indexed by `doublet_dict`.\n",
    "        dfs_doublet_new (list): List with each entry as DataFrame of number of each doublet in each set\n",
    "            of resampled trees, indexed by doublet_dict.\n",
    "        num_resamples (int): Number of resample datasets.\n",
    "        doublet_dict (dict): Keys are doublets, values are integers.\n",
    "        cell_dict (dict): Keys are cell types, values are integers.\n",
    "        df_all_cells_true (DataFrame): DataFrame with number of each cell fate in original trees, indexed by `cell_dict`.\n",
    "    \n",
    "    Returns:\n",
    "        dfs_c (DataFrame): Indexed by values from `doublet_dict`.\n",
    "            Last column is analytically solved expected number of each doublet.\n",
    "            Second to last column is observed number of occurences in the original dataset.\n",
    "            Rest of columns are the observed number of occurences in the resampled sets.\n",
    "    \n",
    "    \"\"\"\n",
    "    \n",
    "    dfs_list = [dfs_doublet_new[i] for i in range(num_resamples)] + [df_doublet_true]\n",
    "    dfs_c = pd.concat(dfs_list, axis=1, sort=False)\n",
    "    \n",
    "    dfs_c.fillna(0, inplace=True)\n",
    "\n",
    "    # for doublet df\n",
    "    empty_indices = [i for i in range(0,len(doublet_dict)) if i not in dfs_c.index]\n",
    "    df_to_append_list = []\n",
    "    for i in empty_indices:\n",
    "        num_zeros = num_resamples+1\n",
    "        index_to_append = {i: [0]*num_zeros}\n",
    "        df_to_append = pd.DataFrame(index_to_append)\n",
    "        df_to_append = df_to_append.transpose()\n",
    "        df_to_append.columns = dfs_c.columns\n",
    "        df_to_append_list.append(df_to_append)\n",
    "    dfs_c = pd.concat([dfs_c]+df_to_append_list, axis=0)\n",
    "    dfs_c.sort_index(inplace=True)\n",
    "    \n",
    "    # for all cells df\n",
    "    empty_indices = [i for i in range(0,len(cell_dict)) if i not in df_all_cells_true.index]\n",
    "    for i in empty_indices:\n",
    "        df_to_append = pd.DataFrame([0], index=[i], columns=[f'{num_resamples}'])\n",
    "        df_all_cells_true = pd.concat([df_all_cells_true, df_to_append], axis=0)\n",
    "    \n",
    "    df_all_cells_true_norm = df_all_cells_true/df_all_cells_true.sum()\n",
    "    df_all_cells_true_norm = df_all_cells_true_norm.rename({v: k for k, v in cell_dict.items()})\n",
    "    \n",
    "    expected_list = []\n",
    "    for key in doublet_dict.keys():\n",
    "        split = key.split(',')\n",
    "        cell_1 = split[0][-1]\n",
    "        cell_2 = split[1][0]\n",
    "        #print(cell_1, cell_2)\n",
    "        p_cell_1 = df_all_cells_true_norm.loc[cell_1].values[0]\n",
    "        p_cell_2 = df_all_cells_true_norm.loc[cell_2].values[0]\n",
    "        #print(p_cell_1, p_cell_2)\n",
    "        expected = dfs_c.sum()[0]*p_cell_1*p_cell_2\n",
    "        if cell_1 != cell_2:\n",
    "            expected *= 2\n",
    "        #print(expected)\n",
    "        expected_list.append(expected)\n",
    "        \n",
    "    dfs_c = dfs_c.copy()\n",
    "    dfs_c['expected'] = expected_list\n",
    "    dfs_c.fillna(0, inplace=True)\n",
    "    \n",
    "    return dfs_c"
   ]
  }
 ],
 "metadata": {
  "kernelspec": {
   "display_name": "lineage_motif",
   "language": "python",
   "name": "python3"
  },
  "language_info": {
   "codemirror_mode": {
    "name": "ipython",
    "version": 3
   },
   "file_extension": ".py",
   "mimetype": "text/x-python",
   "name": "python",
   "nbconvert_exporter": "python",
   "pygments_lexer": "ipython3",
   "version": "3.10.9"
  },
  "orig_nbformat": 4
 },
 "nbformat": 4,
 "nbformat_minor": 2
}
