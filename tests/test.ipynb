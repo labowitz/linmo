{
 "cells": [
  {
   "cell_type": "code",
   "execution_count": 1,
   "metadata": {},
   "outputs": [],
   "source": [
    "import re"
   ]
  },
  {
   "cell_type": "code",
   "execution_count": 5,
   "metadata": {},
   "outputs": [],
   "source": [
    "def _align_asym_quintet(tree):\n",
    "    \"\"\"Aligns asymmetric quintet so that all of them are in the order of (outgroup 1, outgroup 2, ingroup).\n",
    "    \n",
    "    Find all ((x,(x,(x,x))),x) quintets, then replace them with the same asymmetric quintet but in (x,(x,(x,(x,x)))) form.\n",
    "    \n",
    "    Args:\n",
    "        tree (string): Tree in NEWICK format. Tree should have doublets sorted, and triplets and asymmetric quartets aligned already.\n",
    "    \n",
    "    Returns:\n",
    "        tree (string): New tree in NEWICK format after aligned asymmetric quintet.\n",
    "    \"\"\"\n",
    "    for i in re.findall(\"\\(\\(\\w*,\\(\\w*,\\(\\w*,\\w*\\)\\)\\),\\w*\\)\", tree):\n",
    "        j = re.findall(\"\\w*\", i)\n",
    "        i_escape = re.escape(i)\n",
    "        tree = re.sub(i_escape, f'({j[15]},({j[2]},({j[5]},({j[8]},{j[10]}))))', tree)\n",
    "    return tree"
   ]
  },
  {
   "cell_type": "code",
   "execution_count": 8,
   "metadata": {},
   "outputs": [
    {
     "data": {
      "text/plain": [
       "'(a,(b,(c,(d,e))))'"
      ]
     },
     "execution_count": 8,
     "metadata": {},
     "output_type": "execute_result"
    }
   ],
   "source": [
    "tree = \"((b,(c,(d,e))),a)\"\n",
    "\n",
    "_align_asym_quintet(tree)"
   ]
  },
  {
   "cell_type": "code",
   "execution_count": 2,
   "metadata": {},
   "outputs": [
    {
     "data": {
      "text/plain": [
       "('A', '(A,(A,(A,A)))')"
      ]
     },
     "execution_count": 2,
     "metadata": {},
     "output_type": "execute_result"
    }
   ],
   "source": [
    "tree = \"(A,(A,(A,(A,A))))\"\n",
    "\n",
    "tree[1], tree[3:-1]"
   ]
  },
  {
   "cell_type": "code",
   "execution_count": null,
   "metadata": {},
   "outputs": [],
   "source": []
  }
 ],
 "metadata": {
  "kernelspec": {
   "display_name": "lineage_motif",
   "language": "python",
   "name": "python3"
  },
  "language_info": {
   "codemirror_mode": {
    "name": "ipython",
    "version": 3
   },
   "file_extension": ".py",
   "mimetype": "text/x-python",
   "name": "python",
   "nbconvert_exporter": "python",
   "pygments_lexer": "ipython3",
   "version": "3.10.9"
  },
  "orig_nbformat": 4
 },
 "nbformat": 4,
 "nbformat_minor": 2
}
